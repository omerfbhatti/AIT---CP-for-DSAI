{
 "cells": [
  {
   "cell_type": "markdown",
   "metadata": {},
   "source": [
    "# Programming for Data Science and Artificial Intelligence\n",
    "\n",
    "## Supervised Learning - Classification - Naive Bayesian - Multinomial\n",
    "\n",
    "### Readings: \n",
    "- [VANDER] Ch5\n",
    "- [HASTIE] Ch6"
   ]
  },
  {
   "cell_type": "code",
   "execution_count": 1,
   "metadata": {},
   "outputs": [],
   "source": [
    "import numpy as np\n",
    "import matplotlib.pyplot as plt"
   ]
  },
  {
   "cell_type": "markdown",
   "metadata": {},
   "source": [
    "## Multinomial Naive Classification\n",
    "\n",
    "The Gaussian assumption just described is by no means the only simple assumption that could be used to specify the generative distribution for each label.  Another useful example is multinomial naive bayes, where the features are assumed to be generated from a simple multinomial distribution.  **The multinomial distribution describes the probability of observing counts among a number of categories, and thus multinomial naive bayes is most appropriate for features that represent counts or count rates.**\n",
    "\n",
    "The idea is precisely the same as before, except that instead of modeling the data distribution with the best-fit Gaussian, we model the data distribuiton with a best-fit multinomial distribution.\n",
    "\n",
    "One place where multinomial naive Bayes is often used is in **text classification**, where the features $w$ are related to word counts or frequencies within the documents to be classified and $y$ will be our class.  The formation is as follows:\n",
    "\n",
    "$$\n",
    "P(y|w) = \\frac{P(w|y)P(y)}{P(w)}\n",
    "$$\n",
    "\n",
    "**Implementation steps**: \n",
    "\n",
    "1. Prepare your data\n",
    "    - $\\mathbf{X}$ and $\\mathbf{y}$ in the right shape\n",
    "        - $\\mathbf{X}$ -> $(m, n)$\n",
    "        - $\\mathbf{y}$ -> $(m,  )$\n",
    "        - Note that theta is not needed.  Why?\n",
    "    - train-test split\n",
    "    - feature scale\n",
    "    - clean out any missing data\n",
    "    - (optional) feature engineering\n",
    "\n",
    "2. Using the train documents, calculate the **likelihoods** of each word.  Following multinomial distribution, for a given word $w_i$, we count how many of $w_i$ belong in class $k$, we then divide this by the count of all the words that belong to $k$. This gives us the conditional probability for a word $w$ given $k$:\n",
    "\n",
    "    $$ P(w_i \\in train \\mid y=k) = \\frac{count(w_i \\in train, k)}{\\sum_{i=1}^{n} count(w_i \\in train, k)} $$\n",
    "    \n",
    "where \n",
    "\n",
    "$n$ stands for number of unique vocabulary (i.e., features) and $m$ stands for number of documents (i.e., samples). \n",
    "\n",
    "Example:\n",
    "\n",
    "| | docID  | words in doc    | China?   |    \n",
    "|---:|:-------------|:-----------|:------|\n",
    "| Training set | 1  | Chinese Beijing Chinese       | Yes   |\n",
    "|  | 2  | Chinese Chinese Shanghai    | Yes  |\n",
    "|  | 3  | Chinese Macao    | Yes   |\n",
    "|  | 4  | Tokyo Japan Chinese   | No   |\n",
    "| Test set | 5  | Chinese Chinese Chinese Tokyo Japan    | ?   |\n"
   ]
  },
  {
   "cell_type": "code",
   "execution_count": 3,
   "metadata": {},
   "outputs": [],
   "source": [
    "#let's define some random dataset\n",
    "train = np.array([\n",
    "    'Chinese Beijing Chinese',\n",
    "    'Chinese Chinese Shanghai',\n",
    "    'Chinese Macao',\n",
    "    'Tokyo Japan Chinese',\n",
    "])\n",
    "\n",
    "test = np.array([\n",
    "    'Chinese Chinese Chinese Tokyo Japan'\n",
    "])\n",
    "\n",
    "train_target = np.array([1, 1, 1, 0])"
   ]
  },
  {
   "cell_type": "code",
   "execution_count": 6,
   "metadata": {},
   "outputs": [
    {
     "name": "stdout",
     "output_type": "stream",
     "text": [
      "Feature names:  ['beijing', 'chinese', 'japan', 'macao', 'shanghai', 'tokyo']\n",
      "Type:  <class 'scipy.sparse.csr.csr_matrix'>\n",
      "[[1 2 0 0 0 0]\n",
      " [0 2 0 0 1 0]\n",
      " [0 1 0 1 0 0]\n",
      " [0 1 1 0 0 1]]\n"
     ]
    }
   ],
   "source": [
    "#let's use some library to count for us\n",
    "from sklearn.feature_extraction.text import CountVectorizer\n",
    "\n",
    "vectorizer = CountVectorizer()\n",
    "X_train = vectorizer.fit_transform(train)\n",
    "print(\"Feature names: \", vectorizer.get_feature_names())\n",
    "print(\"Type: \", type(X_train))\n",
    "print(X_train.toarray())  #the default is a sparse matrix, use toarray() to see it in the familiar numpy form"
   ]
  },
  {
   "cell_type": "code",
   "execution_count": 7,
   "metadata": {},
   "outputs": [],
   "source": [
    "#the likelihood is very easy, i.e., count of each word belonging to that class / total count of words belonging to that class\n",
    "def likelihood(X_class):\n",
    "    return ((X_class.sum(axis=0))) / (np.sum(X_class.sum(axis=0)))"
   ]
  },
  {
   "cell_type": "code",
   "execution_count": 8,
   "metadata": {},
   "outputs": [
    {
     "name": "stdout",
     "output_type": "stream",
     "text": [
      "Feature names: \n",
      " ['beijing', 'chinese', 'japan', 'macao', 'shanghai', 'tokyo']\n",
      "====When y = 1=====\n",
      "X_train\n",
      " [[1 2 0 0 0 0]\n",
      " [0 2 0 0 1 0]\n",
      " [0 1 0 1 0 0]]\n",
      "Count of each word:  [[1 5 0 1 1 0]]\n",
      "Total count of words:  8\n",
      "P(X_train | y = 1): \n",
      " [[0.125 0.625 0.    0.125 0.125 0.   ]]\n",
      "====When y = 0=====\n",
      "X_train\n",
      " [[0 1 1 0 0 1]]\n",
      "Count of each word:  [[0 1 1 0 0 1]]\n",
      "Total count of words:  3\n",
      "P(X_train | y = 0): \n",
      " [[0.         0.33333333 0.33333333 0.         0.         0.33333333]]\n"
     ]
    }
   ],
   "source": [
    "X_train_class1 = X_train[train_target == 1]           #Separate the training data into separate classes\n",
    "X_train_class0 = X_train[train_target == 0]\n",
    "\n",
    "print(\"Feature names: \\n\", vectorizer.get_feature_names())\n",
    "\n",
    "print(\"====When y = 1=====\")\n",
    "print(\"X_train\\n\", X_train_class1.toarray())\n",
    "print(\"Count of each word: \", X_train_class1.sum(axis=0))             #For each class, count the no. of times the word occurs in that Xclass \n",
    "print(\"Total count of words: \", np.sum(X_train_class1.sum(axis=0)))   #Count the total no. of words in that Xclass\n",
    "\n",
    "likelihood1 = likelihood(X_train_class1)\n",
    "print(\"P(X_train | y = 1): \\n\", likelihood1)\n",
    "#P(word    | y = 1) = count of word / total words\n",
    "#P(beijing | y = 1) = 1 / 8 = 0.125\n",
    "#P(chinese | y = 1) = 5 / 8 = 0.625\n",
    "#P(japan   | y = 1) = 0 / 8 = 0\n",
    "#P(macao   | y = 1) = 1 / 8 = 0.125\n",
    "#P(shanghai| y = 1) = 1 / 8 = 0.125\n",
    "#P(tokyo   | y = 1) = 0 / 8 = 0.125\n",
    "\n",
    "print(\"====When y = 0=====\")\n",
    "print(\"X_train\\n\", X_train_class0.toarray())\n",
    "print(\"Count of each word: \", X_train_class0.sum(axis=0))\n",
    "print(\"Total count of words: \", np.sum(X_train_class0.sum(axis=0)))\n",
    "\n",
    "likelihood0 = likelihood(X_train_class0)\n",
    "print(\"P(X_train | y = 0): \\n\", likelihood0)\n",
    "#P(beijing | y = 0) = 0 / 3 = 0\n",
    "#P(chinese | y = 0) = 1 / 3 = 0.33\n",
    "#P(japan   | y = 0) = 1 / 3 = 0.33\n",
    "#P(macao   | y = 0) = 0 / 3 = 0\n",
    "#P(shanghai| y = 0) = 0 / 3 = 0\n",
    "#P(tokyo   | y = 0) = 1 / 3 = 0.33\n"
   ]
  },
  {
   "cell_type": "markdown",
   "metadata": {},
   "source": [
    "3. Since nothing in this world has zero probability, similarly, even we never see a particular word in some class should not gaurantee a zero probability, thus we can perform **Laplace smoothing** to account for any words with zero count.  Also zero probability is not good when we do a product of probabilities.\n",
    "\n",
    "    $$ P(w_i \\in train \\mid y=k) = \\frac{count(w_i \\in train, k) + 1}{\\sum_{i=1}^{n} count(w_i \\in train, k) + n} $$\n",
    "\n"
   ]
  },
  {
   "cell_type": "code",
   "execution_count": 9,
   "metadata": {},
   "outputs": [],
   "source": [
    "def likelihood(X_class, laplace=1):\n",
    "    return ((X_class.sum(axis=0)) + laplace) / (np.sum(X_class.sum(axis=0) + laplace))"
   ]
  },
  {
   "cell_type": "code",
   "execution_count": 10,
   "metadata": {},
   "outputs": [
    {
     "name": "stdout",
     "output_type": "stream",
     "text": [
      "P(X_train | y = 1) with laplace: \n",
      " [[0.143 0.429 0.071 0.143 0.143 0.071]]\n",
      "P(X_train | y = 0) with laplace: \n",
      " [[0.111 0.222 0.222 0.111 0.111 0.222]]\n"
     ]
    }
   ],
   "source": [
    "#rerun the new likelihood function\n",
    "likelihood1 = likelihood(X_train_class1)\n",
    "likelihood0 = likelihood(X_train_class0)\n",
    "\n",
    "print(\"P(X_train | y = 1) with laplace: \\n\", np.round(likelihood1, 3))\n",
    "#P(beijing | y = 1) = (1 + 1) / (8 + 6) = 0.143\n",
    "#P(chinese | y = 1) = (5 + 1) / (8 + 6) = 0.429\n",
    "#P(japan   | y = 1) = (0 + 1) / (8 + 6) = 0.071\n",
    "#P(macao   | y = 1) = (1 + 1) / (8 + 6) = 0.143\n",
    "#P(shanghai| y = 1) = (1 + 1) / (8 + 6) = 0.143\n",
    "#P(tokyo   | y = 1) = (0 + 1) / (8 + 6) = 0.071\n",
    "\n",
    "print(\"P(X_train | y = 0) with laplace: \\n\", np.round(likelihood0, 3))\n",
    "#P(beijing | y = 0) = (0 + 1) / (3 + 6) = 0.11\n",
    "#P(chinese | y = 0) = (1 + 1) / (3 + 6) = 0.22\n",
    "#P(japan   | y = 0) = (1 + 1) / (3 + 6) = 0.22\n",
    "#P(macao   | y = 0) = (0 + 1) / (3 + 6) = 0.11\n",
    "#P(shanghai| y = 0) = (0 + 1) / (3 + 6) = 0.11\n",
    "#P(tokyo   | y = 0) = (1 + 1) / (3 + 6) = 0.22"
   ]
  },
  {
   "cell_type": "markdown",
   "metadata": {},
   "source": [
    "4. Find **priors** $P(y)$ where is simply number of documents belonging to that class divided by all documents\n",
    "\n",
    "$$P(y = k) = \\frac{\\Sigma_{i=1}^{m}1(y=k)}{m} $$"
   ]
  },
  {
   "cell_type": "code",
   "execution_count": 11,
   "metadata": {},
   "outputs": [
    {
     "name": "stdout",
     "output_type": "stream",
     "text": [
      "Target:  [1 1 1 0]\n",
      "Prior 1 (P(y=1)):  0.75\n",
      "Prior 0 (P(y=0)):  0.25\n"
     ]
    }
   ],
   "source": [
    "prior1 = len(train_target[train_target==1])/len(train_target)\n",
    "prior0 = len(train_target[train_target==0])/len(train_target)\n",
    "\n",
    "print(\"Target: \", train_target)\n",
    "print(\"Prior 1 (P(y=1)): \", prior1)\n",
    "print(\"Prior 0 (P(y=0)): \", prior0)"
   ]
  },
  {
   "cell_type": "markdown",
   "metadata": {},
   "source": [
    "5. Once we get the **likelihoods** from the train data.  If given some test data, we simply use this likelihood to calculate the total likelihood of the test document.  Similarly, since we have more than one word in the test document, we need to make a product of all likelihood of each word in the test document.    \n",
    "    $$ P(w \\in test \\mid y=k) = \\prod_{i=1}^{n} P(w_i \\in test \\mid y=k)^{\\text{freq of }w_i \\in test}$$\n",
    "    \n",
    "Then we can multiply $P(y)P(w \\in test \\mid y)$ for each class which will give us $P (y \\mid x)$ (**posteriors**)\n",
    "\n",
    "$$P (y \\mid x) = P(y=k)\\prod_{i=1}^{n} P(w_i \\in test \\mid y=k)^{\\text{freq of }w_i \\in test}$$"
   ]
  },
  {
   "cell_type": "code",
   "execution_count": 14,
   "metadata": {},
   "outputs": [
    {
     "name": "stdout",
     "output_type": "stream",
     "text": [
      "Feature names:  ['beijing', 'chinese', 'japan', 'macao', 'shanghai', 'tokyo']\n",
      "Type:  <class 'scipy.sparse.csr.csr_matrix'>\n",
      "[[0 3 1 0 0 1]]\n"
     ]
    }
   ],
   "source": [
    "#let's first recall what is our test dataset\n",
    "#also transform to the count matrix, using the training set count model (thus, only transform, no \"fit\")\n",
    "\n",
    "test = np.array([\n",
    "    'Chinese Chinese Chinese Tokyo Japan'\n",
    "])\n",
    "\n",
    "X_test = vectorizer.transform(test)\n",
    "print(\"Feature names: \", vectorizer.get_feature_names())\n",
    "print(\"Type: \", type(X_test))\n",
    "print(X_test.toarray())"
   ]
  },
  {
   "cell_type": "code",
   "execution_count": 15,
   "metadata": {},
   "outputs": [
    {
     "name": "stdout",
     "output_type": "stream",
     "text": [
      "Feature names: \n",
      " ['beijing', 'chinese', 'japan', 'macao', 'shanghai', 'tokyo']\n",
      "Likelihood 1:  [[0.14285714 0.42857143 0.07142857 0.14285714 0.14285714 0.07142857]]\n",
      "Likelihood 0:  [[0.11111111 0.22222222 0.22222222 0.11111111 0.11111111 0.22222222]]\n",
      "P(X_test | y = 1):  0.0004016183732968405\n",
      "P(X_test | y = 0):  0.0005419228098697689\n"
     ]
    }
   ],
   "source": [
    "#let's first print the likelihoods we get from the training set\n",
    "print(\"Feature names: \\n\", vectorizer.get_feature_names())\n",
    "print(\"Likelihood 1: \", likelihood1)\n",
    "print(\"Likelihood 0: \", likelihood0)\n",
    "\n",
    "pxtest_y1 = np.prod(np.power(likelihood1, X_test.toarray()))\n",
    "# = 0.142^0 * 0.428^3 * 0.07^1 * 0.142^0 * 0.142^0 * 0.07^1\n",
    "pxtest_y0 = np.prod(np.power(likelihood0, X_test.toarray()))\n",
    "# = 0.11^0 * 0.22^3 * 0.22^1 * 0.11^0 * 0.11^0 * 0.22^1\n",
    "\n",
    "print(\"P(X_test | y = 1): \", pxtest_y1)\n",
    "print(\"P(X_test | y = 0): \", pxtest_y0)"
   ]
  },
  {
   "cell_type": "code",
   "execution_count": 16,
   "metadata": {},
   "outputs": [
    {
     "name": "stdout",
     "output_type": "stream",
     "text": [
      "P(y=1|X_test) = p(y=1)p(X_test|y=1):  0.00030121377997263036\n",
      "P(y=0|X_test) = p(y=0)p(X_test|y=0):  0.00013548070246744223\n"
     ]
    }
   ],
   "source": [
    "#last, we can multiply with the prior to get the posterior (p(y|x))\n",
    "py1_x = prior1 * pxtest_y1\n",
    "py0_x = prior0 * pxtest_y0\n",
    "\n",
    "print(\"P(y=1|X_test) = p(y=1)p(X_test|y=1): \", py1_x)\n",
    "print(\"P(y=0|X_test) = p(y=0)p(X_test|y=0): \", py0_x)"
   ]
  },
  {
   "cell_type": "markdown",
   "metadata": {},
   "source": [
    "6. Instead of probabilities, we gonna use log (base e) probabiities which have several benefits:\n",
    "    - **Speed** - Log probabilities become addition, which is faster than multiplication\n",
    "    - **Stability** - Probabilities can be too small where some significant digits can be lost during calculations. Log probabiities can prevent such underflow.  If you don't believe me, try perform $\\log_e(0.0000001)$\n",
    "    - **Simplicity** - Many distributions have exponential form.  Taking log cancels out the exp.  The reason we can apply $\\log$ is because $\\log$ is a monotically increasing function, thus will not alter the result \n",
    "    - **Dot product** - After log, addition can often expressed as dot product of matrix, simplifying the code implementation\n",
    "    \n",
    "   Now that you are convinced, \n",
    "   \n",
    "   $$P(y=k)\\prod_{i=1}^{n} p(w_i \\in test \\mid y=k)^{\\text{freq of }w_i \\in test}$$  becomes\n",
    "   \n",
    "  $$\\log \\ P(y=k) + (\\text{freq of }w_i \\in test) * \\sum_{i=1}^{n} \\log \\ p(w_i \\in test \\mid y=k)$$\n",
    "  - Note 1: Log of multiplication becomes addition\n",
    "  - Note 2: Exponent of log becomes multiplicative scalar\n",
    "  \n",
    " Thus, in implementation we can expressed as\n",
    "\n",
    "<code>np.log(priors) + X_test @ np.log(likelihoods.T) </code>"
   ]
  },
  {
   "cell_type": "code",
   "execution_count": 17,
   "metadata": {},
   "outputs": [
    {
     "name": "stdout",
     "output_type": "stream",
     "text": [
      "P(X_test | y = 1):  [[-7.82000824]]\n",
      "P(X_test | y = 0):  [[-7.52038698]]\n"
     ]
    }
   ],
   "source": [
    "#let's recompute using the log way\n",
    "pxtest_y1 = X_test.toarray() @ np.log(likelihood1.T)\n",
    "pxtest_y0 = X_test.toarray() @ np.log(likelihood0.T)\n",
    "\n",
    "print(\"P(X_test | y = 1): \", pxtest_y1)\n",
    "print(\"P(X_test | y = 0): \", pxtest_y0)"
   ]
  },
  {
   "cell_type": "code",
   "execution_count": 18,
   "metadata": {},
   "outputs": [
    {
     "name": "stdout",
     "output_type": "stream",
     "text": [
      "P(y=1|X_test) = p(y=1)p(X_test|y=1):  [[2.24967618]]\n",
      "P(y=0|X_test) = p(y=0)p(X_test|y=0):  [[10.42547007]]\n"
     ]
    }
   ],
   "source": [
    "py1_x = np.log(prior1) * pxtest_y1\n",
    "py0_x = np.log(prior0) * pxtest_y0\n",
    "\n",
    "print(\"P(y=1|X_test) = p(y=1)p(X_test|y=1): \", py1_x)\n",
    "print(\"P(y=0|X_test) = p(y=0)p(X_test|y=0): \", py0_x)"
   ]
  },
  {
   "cell_type": "markdown",
   "metadata": {},
   "source": [
    "### Putting them together\n",
    "\n",
    "#### 1. Prepare some data\n",
    "\n",
    "Here we will use the sparse word count features from the 20 Newsgroups corpus to show how we might classify these short documents into categories.\n",
    "\n",
    "Let's download the data and take a look at the target names."
   ]
  },
  {
   "cell_type": "code",
   "execution_count": 19,
   "metadata": {},
   "outputs": [
    {
     "data": {
      "text/plain": [
       "['alt.atheism',\n",
       " 'comp.graphics',\n",
       " 'comp.os.ms-windows.misc',\n",
       " 'comp.sys.ibm.pc.hardware',\n",
       " 'comp.sys.mac.hardware',\n",
       " 'comp.windows.x',\n",
       " 'misc.forsale',\n",
       " 'rec.autos',\n",
       " 'rec.motorcycles',\n",
       " 'rec.sport.baseball',\n",
       " 'rec.sport.hockey',\n",
       " 'sci.crypt',\n",
       " 'sci.electronics',\n",
       " 'sci.med',\n",
       " 'sci.space',\n",
       " 'soc.religion.christian',\n",
       " 'talk.politics.guns',\n",
       " 'talk.politics.mideast',\n",
       " 'talk.politics.misc',\n",
       " 'talk.religion.misc']"
      ]
     },
     "execution_count": 19,
     "metadata": {},
     "output_type": "execute_result"
    }
   ],
   "source": [
    "from sklearn.datasets import fetch_20newsgroups\n",
    "\n",
    "data = fetch_20newsgroups()\n",
    "data.target_names"
   ]
  },
  {
   "cell_type": "markdown",
   "metadata": {},
   "source": [
    "Also, for simplicity here, we will select just a few of these categories, and download the training and testing set."
   ]
  },
  {
   "cell_type": "code",
   "execution_count": 20,
   "metadata": {},
   "outputs": [],
   "source": [
    "categories = ['talk.religion.misc', 'soc.religion.christian',\n",
    "              'sci.space', 'comp.graphics']\n",
    "train = fetch_20newsgroups(subset='train', categories=categories)\n",
    "test = fetch_20newsgroups(subset='test', categories=categories)"
   ]
  },
  {
   "cell_type": "markdown",
   "metadata": {},
   "source": [
    "Last, we will print some example data."
   ]
  },
  {
   "cell_type": "code",
   "execution_count": 61,
   "metadata": {
    "scrolled": true
   },
   "outputs": [
    {
     "name": "stdout",
     "output_type": "stream",
     "text": [
      "From: jono@mac-ak-24.rtsg.mot.com (Jon Ogden)\n",
      "Subject: Re: Losing your temper is not a Christian trait\n",
      "Organization: Motorola LPA Development\n",
      "Lines: 26\n",
      "\n",
      "In article <Apr.23.02.55.47.1993.3138@geneva.rutgers.edu>, jcj@tellabs.com\n",
      "(jcj) wrote:\n",
      "\n",
      "> I'd like to remind people of the withering of the fig tree and Jesus\n",
      "> driving the money changers et. al. out of the temple.  I think those\n",
      "> were two instances of Christ showing anger (as part of His human side).\n",
      "> \n",
      "Yes, and what about Paul saying:\n",
      "\n",
      "26 Be ye angry, and sin not: let not the sun go down upon your wrath:\n",
      "(Ephesians 4:26).\n",
      "\n",
      "Obviously then, we can be angry w/o sinning.\n",
      "\n",
      "Jon\n",
      "\n",
      "------------------------------------------------\n",
      "Jon Ogden         - jono@mac-ak-24.rtsg.mot.com\n",
      "Motorola Cellular - Advanced Products Division\n",
      "Voice: 708-632-2521      Data: 708-632-6086\n",
      "------------------------------------------------\n",
      "\n",
      "They drew a circle and shut him out.\n",
      "Heretic, Rebel, a thing to flout.\n",
      "But Love and I had the wit to win;\n",
      "We drew a circle and took him in.\n",
      "\n",
      "Target:  2\n"
     ]
    }
   ],
   "source": [
    "print(train.data[0]) #first 300 words\n",
    "print(\"Target: \", train.target[0])  #start with 1, soc.religion.christian"
   ]
  },
  {
   "cell_type": "markdown",
   "metadata": {},
   "source": [
    "#### 2 Transform our data to frequency"
   ]
  },
  {
   "cell_type": "code",
   "execution_count": 22,
   "metadata": {},
   "outputs": [
    {
     "name": "stdout",
     "output_type": "stream",
     "text": [
      "X_train:    (0, 14822)\t1\n",
      "  (0, 18774)\t2\n",
      "  (0, 20502)\t2\n",
      "  (0, 4688)\t2\n",
      "  (0, 1572)\t2\n",
      "  (0, 27916)\t2\n",
      "  (0, 21988)\t2\n",
      "  (0, 9095)\t3\n",
      "  (0, 18765)\t3\n",
      "  (0, 23326)\t2\n",
      "  (0, 30617)\t1\n",
      "  (0, 26562)\t1\n",
      "  (0, 20308)\t1\n",
      "  (0, 35183)\t2\n",
      "  (0, 31463)\t1\n",
      "  (0, 18370)\t1\n",
      "  (0, 22932)\t3\n",
      "  (0, 8590)\t1\n",
      "  (0, 32244)\t1\n",
      "  (0, 23591)\t1\n",
      "  (0, 22013)\t2\n",
      "  (0, 20366)\t1\n",
      "  (0, 11327)\t1\n",
      "  (0, 20065)\t1\n",
      "  (0, 1655)\t3\n",
      "  :\t:\n",
      "  (0, 8236)\t1\n",
      "  (0, 4416)\t1\n",
      "  (0, 25675)\t1\n",
      "  (0, 11891)\t1\n",
      "  (0, 33990)\t1\n",
      "  (0, 2879)\t2\n",
      "  (0, 2691)\t2\n",
      "  (0, 1631)\t1\n",
      "  (0, 10677)\t1\n",
      "  (0, 2645)\t1\n",
      "  (0, 31737)\t1\n",
      "  (0, 12166)\t2\n",
      "  (0, 8666)\t2\n",
      "  (0, 29122)\t1\n",
      "  (0, 16610)\t2\n",
      "  (0, 16493)\t1\n",
      "  (0, 26646)\t1\n",
      "  (0, 31753)\t1\n",
      "  (0, 14421)\t1\n",
      "  (0, 7576)\t1\n",
      "  (0, 20341)\t1\n",
      "  (0, 16025)\t1\n",
      "  (0, 34678)\t1\n",
      "  (0, 34604)\t1\n",
      "  (0, 32091)\t1\n",
      "y_train:  2\n"
     ]
    }
   ],
   "source": [
    "#transform our X to frequency data\n",
    "vectorizer = CountVectorizer()\n",
    "X_train = vectorizer.fit_transform(train.data)\n",
    "X_test = vectorizer.transform(test.data)\n",
    "X_test = X_test.toarray()  #vectorizer gives us a sparse matrix; convert back to dense matrix\n",
    "\n",
    "y_train = train.target\n",
    "y_test = test.target\n",
    "\n",
    "print(\"X_train: \", X_train[0])\n",
    "print(\"y_train: \", y_train[0])"
   ]
  },
  {
   "cell_type": "markdown",
   "metadata": {},
   "source": [
    "#### 3. Calculating likelihood anrd prior"
   ]
  },
  {
   "cell_type": "code",
   "execution_count": 29,
   "metadata": {},
   "outputs": [],
   "source": [
    "def likelihood(X_class, laplace=1):\n",
    "    return ((X_class.sum(axis=0)) + laplace) / (np.sum(X_class.sum(axis=0) + laplace))"
   ]
  },
  {
   "cell_type": "code",
   "execution_count": 30,
   "metadata": {},
   "outputs": [],
   "source": [
    "def prior(X_class, m):\n",
    "    return X_class.shape[0] / m"
   ]
  },
  {
   "cell_type": "code",
   "execution_count": 31,
   "metadata": {},
   "outputs": [],
   "source": [
    "def fit(X_train, y_train):\n",
    "    m, n = X_train.shape\n",
    "    classes = np.unique(y_train)  #list of class\n",
    "    k = len(classes) #number of class\n",
    "    \n",
    "    priors = np.zeros(k) #prior for each classes\n",
    "    likelihoods = np.zeros((k, n)) #likehood for each class of each feature\n",
    "    \n",
    "    for idx, label in enumerate(classes):\n",
    "        X_train_c = X_train[y_train==label]\n",
    "        priors[idx] = prior(X_train_c, m)\n",
    "        likelihoods[idx, :] = likelihood(X_train_c)\n",
    "    return priors, likelihoods"
   ]
  },
  {
   "cell_type": "markdown",
   "metadata": {},
   "source": [
    "#### 4. Predict"
   ]
  },
  {
   "cell_type": "code",
   "execution_count": 32,
   "metadata": {},
   "outputs": [],
   "source": [
    "def predict(X_test, priors, likelihoods, classes):\n",
    "    return np.log(priors) + X_test @ np.log(likelihoods.T) "
   ]
  },
  {
   "cell_type": "markdown",
   "metadata": {},
   "source": [
    "#### 5. Let's use them"
   ]
  },
  {
   "cell_type": "code",
   "execution_count": 33,
   "metadata": {},
   "outputs": [],
   "source": [
    "priors, likelihoods = fit(X_train, y_train)"
   ]
  },
  {
   "cell_type": "code",
   "execution_count": 34,
   "metadata": {},
   "outputs": [],
   "source": [
    "classes = np.unique(y_test)\n",
    "yhat = predict(X_test, priors, likelihoods, classes)\n",
    "yhat = np.argmax(yhat, axis=1)"
   ]
  },
  {
   "cell_type": "code",
   "execution_count": 35,
   "metadata": {},
   "outputs": [
    {
     "name": "stdout",
     "output_type": "stream",
     "text": [
      "Accuracy:  0.9168994413407822\n",
      "=========Average precision score=======\n",
      "Class 0 score:  0.9152047938418233\n",
      "Class 1 score:  0.9069918620723723\n",
      "Class 2 score:  0.8429395016564877\n",
      "Class 3 score:  0.7277310085946386\n",
      "=========Classification report=======\n",
      "Report:                precision    recall  f1-score   support\n",
      "\n",
      "           0       0.95      0.95      0.95       389\n",
      "           1       0.94      0.96      0.95       394\n",
      "           2       0.87      0.95      0.91       398\n",
      "           3       0.92      0.74      0.82       251\n",
      "\n",
      "    accuracy                           0.92      1432\n",
      "   macro avg       0.92      0.90      0.91      1432\n",
      "weighted avg       0.92      0.92      0.92      1432\n",
      "\n"
     ]
    }
   ],
   "source": [
    "from sklearn.preprocessing import label_binarize\n",
    "from sklearn.metrics import average_precision_score, classification_report\n",
    "\n",
    "n_classes = len(np.unique(y_test))\n",
    "\n",
    "print(\"Accuracy: \", np.sum(yhat == y_test)/len(y_test))\n",
    "\n",
    "print(\"=========Average precision score=======\")\n",
    "y_test_binarized = label_binarize(y_test, classes=[0, 1, 2, 3])\n",
    "yhat_binarized = label_binarize(yhat, classes=[0, 1, 2, 3])\n",
    "\n",
    "for i in range(n_classes):\n",
    "    class_score = average_precision_score(y_test_binarized[:, i], yhat_binarized[:, i])\n",
    "    print(f\"Class {i} score: \", class_score)\n",
    "    \n",
    "print(\"=========Classification report=======\")\n",
    "print(\"Report: \", classification_report(y_test, yhat))"
   ]
  },
  {
   "cell_type": "code",
   "execution_count": 36,
   "metadata": {},
   "outputs": [
    {
     "data": {
      "text/plain": [
       "Text(32.99999999999999, 0.5, 'predicted')"
      ]
     },
     "execution_count": 36,
     "metadata": {},
     "output_type": "execute_result"
    },
    {
     "data": {
      "image/png": "[encoded data removed]",
      "text/plain": [
       "<Figure size 432x288 with 2 Axes>"
      ]
     },
     "metadata": {
      "needs_background": "light"
     },
     "output_type": "display_data"
    }
   ],
   "source": [
    "from sklearn.metrics import confusion_matrix\n",
    "\n",
    "#use confusion matrix\n",
    "mat = confusion_matrix(y_test, yhat)\n",
    "\n",
    "import seaborn as sns\n",
    "sns.heatmap(mat.T, annot=True, fmt=\"d\",\n",
    "           xticklabels=train.target_names, yticklabels=train.target_names)\n",
    "plt.xlabel('true')\n",
    "plt.ylabel('predicted')"
   ]
  },
  {
   "cell_type": "markdown",
   "metadata": {},
   "source": [
    "### Sklearn"
   ]
  },
  {
   "cell_type": "code",
   "execution_count": 37,
   "metadata": {},
   "outputs": [],
   "source": [
    "from sklearn.naive_bayes import MultinomialNB\n",
    "\n",
    "model = MultinomialNB()\n",
    "model.fit(X_train, y_train)\n",
    "yhat = model.predict(X_test)  ##later for checking score"
   ]
  },
  {
   "cell_type": "code",
   "execution_count": 38,
   "metadata": {},
   "outputs": [
    {
     "name": "stdout",
     "output_type": "stream",
     "text": [
      "comp.graphics\n"
     ]
    }
   ],
   "source": [
    "#fun thing you can do\n",
    "some_string = \"Programming is fun\"\n",
    "transformed = vectorizer.transform([some_string])\n",
    "transformed.shape\n",
    "\n",
    "prediction = model.predict(transformed)\n",
    "print(train.target_names[prediction[0]])"
   ]
  },
  {
   "cell_type": "code",
   "execution_count": 39,
   "metadata": {},
   "outputs": [
    {
     "name": "stdout",
     "output_type": "stream",
     "text": [
      "=========Average precision score=======\n",
      "Class 0 score:  0.9152047938418233\n",
      "Class 1 score:  0.9069918620723723\n",
      "Class 2 score:  0.8429395016564877\n",
      "Class 3 score:  0.7277310085946386\n",
      "=========Classification report=======\n",
      "Report:                precision    recall  f1-score   support\n",
      "\n",
      "           0       0.95      0.95      0.95       389\n",
      "           1       0.94      0.96      0.95       394\n",
      "           2       0.87      0.95      0.91       398\n",
      "           3       0.92      0.74      0.82       251\n",
      "\n",
      "    accuracy                           0.92      1432\n",
      "   macro avg       0.92      0.90      0.91      1432\n",
      "weighted avg       0.92      0.92      0.92      1432\n",
      "\n"
     ]
    }
   ],
   "source": [
    "print(\"=========Average precision score=======\")\n",
    "y_test_binarized = label_binarize(y_test, classes=[0, 1, 2, 3])\n",
    "yhat_binarized = label_binarize(yhat, classes=[0, 1, 2, 3])\n",
    "\n",
    "n_classes = len(np.unique(y_test))\n",
    "\n",
    "for i in range(n_classes):\n",
    "    class_score = average_precision_score(y_test_binarized[:, i], yhat_binarized[:, i])\n",
    "    print(f\"Class {i} score: \", class_score)\n",
    "\n",
    "print(\"=========Classification report=======\")\n",
    "print(\"Report: \", classification_report(y_test, yhat))"
   ]
  },
  {
   "cell_type": "markdown",
   "metadata": {},
   "source": [
    "### When to Use Naive Bayes\n",
    "\n",
    "Usually only as baseline!  Because naive Bayesian classifiers make such stringent assumptions about data, they will **generally NOT perform as well as a more complicated model.**\n",
    "That said, they have several advantages:\n",
    "\n",
    "- They are extremely fast for both training and prediction\n",
    "- They provide straightforward probabilistic prediction\n",
    "- They are often very easily interpretable\n",
    "- They have very few (if any) tunable parameters\n",
    "\n",
    "Naive Bayes classifiers tend to perform well only when your data is clearly separable or has high dimension.\n",
    "\n",
    "The reason for high dimension is because new dimensions usually add more information, thus data become more separable.  Thus, if you have really large dataset, try Naive Bayes and it may surprise you!"
   ]
  },
  {
   "cell_type": "markdown",
   "metadata": {},
   "source": [
    "### === Task ===\n",
    "\n",
    "1) Learn about TFidVectorizer and replace CountVectorizer with TFIDVectorizer (I have provided the explanation below.)\n",
    "2) Put Multinomial Naive Classification into a class that can transform the data, fit the model and do prediction.\n",
    "    - In the class, allow users to choose whether to use CountVectorizer or TFIDVectorizer to transform the data."
   ]
  },
  {
   "cell_type": "markdown",
   "metadata": {},
   "source": [
    "#### TfidVectorizer\n",
    "\n",
    "Recall that in Naive Multinomial Classification, we want our features to be represented as frequency.  Here, we shall go beyond one more step, i.e., after counting the number of words, we shall perform a normalization process called TF-IDF which focuses on **cutting very frequent words which tend to be less meaningful information like \"the\", \"a\", \"is\".**"
   ]
  },
  {
   "cell_type": "code",
   "execution_count": 31,
   "metadata": {},
   "outputs": [
    {
     "data": {
      "text/plain": [
       "array([[0.91892665, 0.        , 0.39442846],\n",
       "       [0.84080197, 0.54134281, 0.        ],\n",
       "       [0.39706158, 0.34085938, 0.85214845]])"
      ]
     },
     "execution_count": 31,
     "metadata": {},
     "output_type": "execute_result"
    }
   ],
   "source": [
    "from sklearn.feature_extraction.text import TfidfTransformer\n",
    "\n",
    "#imagine that we already have a frequency features.  We can perform normalization\n",
    "#as a follow up\n",
    "#here we got n=3, and m=2\n",
    "counts = [[3, 0, 1],\n",
    "          [2, 1, 0],\n",
    "          [3, 2, 5]]\n",
    "transformer = TfidfTransformer()\n",
    "transformer.fit_transform(counts).toarray()"
   ]
  },
  {
   "cell_type": "markdown",
   "metadata": {},
   "source": [
    "Here is how it works underhood:\n",
    "\n",
    "The formula is\n",
    "\n",
    "$$ \\text{TF-IDF} =  \\text{TF} * \\text{IDF} $$\n",
    "\n",
    "where TF is \n",
    "\n",
    "$$ \\text{TF}_t = \\frac{\\text{Count of words t in that document}}{\\text{Total count of words in that document}}$$\n",
    "\n",
    "Thus TF = \n",
    "\n",
    "| | 1st word  | 2nd word   | 3rd word |\n",
    "|---:|:-------------|:-----------|:-----------|\n",
    "| doc1 | 3/4 = 0.75  | 0     |  1/4 = 0.25 |\n",
    "| doc2 | 2/3 = 0.66  | 1/3 = 0.33    |  0 |\n",
    "| doc3 | 3/10 = 0.33  | 2/10 = 0.20    |  5/10 = 0.5 |\n",
    "\n",
    "and \n",
    "\n",
    "$$ \\text{IDF} = \\log\\left(\\frac{\\text{Number of documents}}{\\text{Number of documents containing that word}}\\right) + 1$$\n",
    "\n",
    "*Note:  We plus one so that super frequent words will not be ignored entirely*\n",
    "\n",
    "Thus IDF = \n",
    "\n",
    "| | IDF  |    \n",
    "|---:|:-----------|\n",
    "| 1st word | $\\log$ 3/3 + 1 = 1 |\n",
    "| 2nd word | $\\log$ 3/2 + 1 = 1.4055  |\n",
    "| 3rd word | $\\log$ 3/2 + 1 = 1.4055  | \n",
    "\n",
    "*Notice that terms (i.e., 1st word) that appear frequently across documents will get low score.  By multiplying this IDF term with the frequency, it will scale the importance down.*\n",
    "\n",
    "Thus TF * IDF = \n",
    "\n",
    "| | 1st word  | 2nd word | 3rd word|    \n",
    "|---:|:-----------|:-----------|:-----------|\n",
    "| doc1 | 0.75 * 1 = 0.75  | 0 * 1.4055 = 0 | 0.25 * 1.4055 = 0.3514 |\n",
    "| doc2 | 0.66 * 1 = 0.66  | 0.33 * 1.4055 = 0.4685 | 0 * 1.4055 = 0   |\n",
    "| doc3 | 0.33 * 1 = 0.33  | 0.20 * 1.4055 = 0.2811 | 0.5 * 1.4055 =0.7027   |\n",
    "\n",
    "\n",
    "We need to further normalize each word using this formula (since each document has unequaled number of words):\n",
    "\n",
    "$$ norm(t_i) = \\frac{t_i}{\\sqrt{t_1^2 + t_2^2 + ....+t_n^2}} $$ \n",
    "\n",
    "Thus, normalized factor for each document is\n",
    "\n",
    "doc1 = $\\sqrt{0.75^2 + 0^2 + 0.3514^2} = 0.8282$\n",
    "\n",
    "doc2 = $\\sqrt{0.66^2 + 0.4685^2 + 0^2} = 0.8094$\n",
    "\n",
    "doc3 = $\\sqrt{0.33^2 + 0.281^2 + 0.7027^2} = 0.8256$\n",
    "\n",
    "\n",
    "Thus, normalized(TF * IDF) = \n",
    "\n",
    "| | 1st word  | 2nd word | 3rd word|    \n",
    "|---:|:-----------|:-----------|:-----------|\n",
    "| doc1 | 0.75 / 0.8282 = 0.9056 | 0 | 0.3514 / 0.8282 = 0.4243 |\n",
    "| doc2 | 0.66 / 0.8094 = 0.8154  | 0.4685 / 0.8094 = 0.5788 | 0   |\n",
    "| doc3 | 0.33 / 0.8256 = 0.3997  | 0.2811 / 0.8256 = 0.3405 | 0.7027 / 0.8256 = 0.8511 |\n",
    "\n",
    "**Note**\n",
    "- My numbers are not exactly the same due to float precisions\n",
    "- Note I am using TFidTransformer.  You may want to use TFidVectorizer which automatically accepts raw data (i.e., text data)"
   ]
  },
  {
   "cell_type": "code",
   "execution_count": 57,
   "metadata": {},
   "outputs": [],
   "source": [
    "class multinomial_NB:\n",
    "    def __init__(self, train, test, method='count'):\n",
    "        self.trainData=train\n",
    "        self.testData=test\n",
    "        self.vectorizer=[]\n",
    "        self.X_train=[]\n",
    "        self.X_test=[]\n",
    "        self.y_train = self.trainData.target\n",
    "        self.y_test = self.testData.target\n",
    "        self.k=[]\n",
    "        self.likelihoods=[]\n",
    "        self.priors=[]\n",
    "        self.method=method\n",
    "        if self.method=='count':\n",
    "            self.count_transform() \n",
    "        self.m, self.n = self.X_train.shape\n",
    "        \n",
    "    def fit(self):\n",
    "               \n",
    "        classes = np.unique(self.y_train)  #list of class\n",
    "        self.k = len(classes) #number of class\n",
    "        self.priors = np.zeros(self.k) #prior for each classes\n",
    "        self.likelihoods = np.zeros((self.k, self.n)) #likehood for each class of each feature\n",
    "        \n",
    "        if self.method=='count':\n",
    "            #self.count_transform()\n",
    "            for idx, label in enumerate(classes):\n",
    "                X_train_by_class = self.X_train[self.y_train==label]\n",
    "                self.priors[idx] = self.prior(X_train_by_class, self.m)\n",
    "                self.likelihoods[idx, :] = self.likelihood(X_train_by_class)\n",
    "            \n",
    "        elif( self.method=='tfidf'):\n",
    "            pass\n",
    "        else:\n",
    "            pass\n",
    "    \n",
    "    #def fit(X_train, y_train):\n",
    "        \n",
    "    def predict(self):\n",
    "        yhat = np.log(self.priors) + self.X_test @ np.log(self.likelihoods.T)\n",
    "        yhat = np.argmax(yhat, axis=1)\n",
    "        return yhat\n",
    "\n",
    "    def count_transform(self):\n",
    "        #transform our X to frequency data\n",
    "        self.vectorizer = CountVectorizer()\n",
    "        self.X_train = self.vectorizer.fit_transform(self.trainData.data)\n",
    "        self.X_test = self.vectorizer.transform(self.testData.data)\n",
    "        self.X_test = self.X_test.toarray()  #vectorizer gives us a sparse matrix; convert back to dense matrix\n",
    "\n",
    "        #print(\"X_train: \", self.X_train[0])\n",
    "        #print(\"y_train: \", self.y_train[0])\n",
    "        \n",
    "    def likelihood(self, X_class, laplace=1):\n",
    "        return ((X_class.sum(axis=0)) + laplace) / (np.sum(X_class.sum(axis=0) + laplace))\n",
    "    \n",
    "    def prior(self, X_class, m):\n",
    "        return X_class.shape[0] / m\n",
    "    \n",
    "    \n",
    "    "
   ]
  },
  {
   "cell_type": "code",
   "execution_count": 55,
   "metadata": {},
   "outputs": [],
   "source": [
    "from sklearn.datasets import fetch_20newsgroups\n",
    "\n",
    "data = fetch_20newsgroups()\n",
    "data.target_names\n",
    "\n",
    "categories = ['talk.religion.misc', 'soc.religion.christian',\n",
    "              'sci.space', 'comp.graphics']\n",
    "train = fetch_20newsgroups(subset='train', categories=categories)\n",
    "test = fetch_20newsgroups(subset='test', categories=categories)\n",
    "\n",
    "#print(train.data[0]) #first 300 words\n",
    "#print(\"Target: \", train.target[0])  #start with 1, soc.religion.christian"
   ]
  },
  {
   "cell_type": "code",
   "execution_count": 58,
   "metadata": {},
   "outputs": [
    {
     "name": "stdout",
     "output_type": "stream",
     "text": [
      "[3 0 1 ... 1 2 1]\n"
     ]
    }
   ],
   "source": [
    "model = multinomial_NB(train, test)\n",
    "model.fit()\n",
    "yhat = model.predict()\n",
    "print(yhat)"
   ]
  },
  {
   "cell_type": "code",
   "execution_count": 60,
   "metadata": {},
   "outputs": [
    {
     "name": "stdout",
     "output_type": "stream",
     "text": [
      "Accuracy:  0.9168994413407822\n",
      "=========Average precision score=======\n",
      "Class 0 score:  0.9152047938418233\n",
      "Class 1 score:  0.9069918620723723\n",
      "Class 2 score:  0.8429395016564877\n",
      "Class 3 score:  0.7277310085946386\n",
      "=========Classification report=======\n",
      "Report:                precision    recall  f1-score   support\n",
      "\n",
      "           0       0.95      0.95      0.95       389\n",
      "           1       0.94      0.96      0.95       394\n",
      "           2       0.87      0.95      0.91       398\n",
      "           3       0.92      0.74      0.82       251\n",
      "\n",
      "    accuracy                           0.92      1432\n",
      "   macro avg       0.92      0.90      0.91      1432\n",
      "weighted avg       0.92      0.92      0.92      1432\n",
      "\n"
     ]
    },
    {
     "data": {
      "text/plain": [
       "Text(32.99999999999999, 0.5, 'predicted')"
      ]
     },
     "execution_count": 60,
     "metadata": {},
     "output_type": "execute_result"
    },
    {
     "data": {
      "image/png": "[encoded data removed]",
      "text/plain": [
       "<Figure size 432x288 with 2 Axes>"
      ]
     },
     "metadata": {
      "needs_background": "light"
     },
     "output_type": "display_data"
    }
   ],
   "source": [
    "from sklearn.preprocessing import label_binarize\n",
    "from sklearn.metrics import average_precision_score, classification_report\n",
    "from sklearn.metrics import confusion_matrix\n",
    "import seaborn as sns\n",
    "\n",
    "n_classes = len(np.unique(model.y_test))\n",
    "\n",
    "print(\"Accuracy: \", np.sum(yhat == model.y_test)/len(model.y_test))\n",
    "\n",
    "print(\"=========Average precision score=======\")\n",
    "y_test_binarized = label_binarize(model.y_test, classes=[0, 1, 2, 3])\n",
    "yhat_binarized = label_binarize(yhat, classes=[0, 1, 2, 3])\n",
    "\n",
    "for i in range(n_classes):\n",
    "    class_score = average_precision_score(y_test_binarized[:, i], yhat_binarized[:, i])\n",
    "    print(f\"Class {i} score: \", class_score)\n",
    "    \n",
    "print(\"=========Classification report=======\")\n",
    "print(\"Report: \", classification_report(model.y_test, yhat))\n",
    "\n",
    "#use confusion matrix\n",
    "mat = confusion_matrix(model.y_test, yhat)\n",
    "\n",
    "\n",
    "sns.heatmap(mat.T, annot=True, fmt=\"d\",\n",
    "           xticklabels=train.target_names, yticklabels=train.target_names)\n",
    "plt.xlabel('true')\n",
    "plt.ylabel('predicted')"
   ]
  },
  {
   "cell_type": "code",
   "execution_count": null,
   "metadata": {},
   "outputs": [],
   "source": []
  }
 ],
 "metadata": {
  "kernelspec": {
   "display_name": "pythonDSAI",
   "language": "python",
   "name": "pythondsai"
  },
  "language_info": {
   "codemirror_mode": {
    "name": "ipython",
    "version": 3
   },
   "file_extension": ".py",
   "mimetype": "text/x-python",
   "name": "python",
   "nbconvert_exporter": "python",
   "pygments_lexer": "ipython3",
   "version": "3.9.6"
  }
 },
 "nbformat": 4,
 "nbformat_minor": 4
}
