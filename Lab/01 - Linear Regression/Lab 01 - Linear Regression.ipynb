{
 "cells": [
  {
   "cell_type": "markdown",
   "id": "b1f71313",
   "metadata": {},
   "source": [
    "# Supervised Learning - Regression"
   ]
  },
  {
   "cell_type": "markdown",
   "id": "57189dc3",
   "metadata": {},
   "source": [
    "### Lab 01"
   ]
  },
  {
   "cell_type": "code",
   "execution_count": 2,
   "id": "1bbafc31",
   "metadata": {},
   "outputs": [],
   "source": [
    "import numpy as np\n",
    "import matplotlib.pyplot as plt\n",
    "from sklearn.preprocessing import StandardScaler\n",
    "from sklearn.model_selection import train_test_split\n",
    "from sklearn.datasets import load_boston\n",
    "from numpy.linalg import inv\n",
    "from time import time\n",
    "import random"
   ]
  },
  {
   "cell_type": "code",
   "execution_count": 3,
   "id": "002fb06b",
   "metadata": {},
   "outputs": [],
   "source": [
    "def add_intercept_column(X_train, X_test):\n",
    "    #Concatenating the intercept to training set as variable b of shape = (no. of samples used for training, 1)\n",
    "    b=np.ones((X_train.shape[0],1))\n",
    "    X_train = np.concatenate((b, X_train), axis=1)\n",
    "\n",
    "    #doing the same for the testing set\n",
    "    b=np.ones((X_test.shape[0],1))\n",
    "    X_test=np.concatenate((b,X_test),axis=1)\n",
    "    \n",
    "    return X_train, X_test"
   ]
  },
  {
   "cell_type": "markdown",
   "id": "86224f8a",
   "metadata": {},
   "source": [
    "### Linear Regression Class Definition"
   ]
  },
  {
   "cell_type": "code",
   "execution_count": 9,
   "id": "ca50b388",
   "metadata": {},
   "outputs": [],
   "source": [
    "#method argument\n",
    "#0 - default value - Batch Gradient Descent\n",
    "#1 - Mini-Batch Gradient Descent\n",
    "#2 - Stochastic Gradient Descent\n",
    "\n",
    "#early stopping argument\n",
    "#False - off\n",
    "#True - on (Default)\n",
    "\n",
    "class linearRegression:\n",
    "    def __init__(self):\n",
    "        self.X_test=[]\n",
    "        self.X_train=[]\n",
    "        self.y_test=[]\n",
    "        self.y_train=[]\n",
    "        self.theta=[]\n",
    "        \n",
    "    def fit_data(self, xtest, xtrain, ytest, ytrain):\n",
    "        self.X_test=xtest\n",
    "        self.X_train=xtrain\n",
    "        self.y_test=ytest\n",
    "        self.y_train=ytrain\n",
    "        assert X_train.shape[0] == y_train.shape[0]\n",
    "        self.theta=np.zeros(xtrain.shape[1])\n",
    "        \n",
    "    def grad_descent(self, method=0, early_stopping=True, tol=0.0001, alpha=0.0001):\n",
    "        \n",
    "        start = time()\n",
    "        loss_old=10000\n",
    "        iter_stop=0\n",
    "        n_epochs=10000\n",
    "        batch_size=10\n",
    "        \n",
    "        self.theta=np.zeros(self.X_train.shape[1])\n",
    "        if (method == 0):\n",
    "            #Batch Gradient Descent\n",
    "            xtrain=self.X_train\n",
    "            ytrain=self.y_train\n",
    "        \n",
    "        j=0\n",
    "        used_indexes=[]\n",
    "        \n",
    "        for i in range(n_epochs):\n",
    "            \n",
    "            if (method == 1):\n",
    "                #Mini-Batch Gradient Descent\n",
    "                if (j>self.X_train.shape[0]-batch_size-1):\n",
    "                    j=0\n",
    "                xtrain=self.X_train[j:j+batch_size,:]\n",
    "                ytrain=self.y_train[j:j+batch_size,]\n",
    "                j+=batch_size\n",
    "            elif (method == 2):\n",
    "                #Stochastic Gradient Descent\n",
    "                n=random.randint(0,self.X_train.shape[0]-1)\n",
    "                while n in used_indexes:\n",
    "                    n=random.randint(0,self.X_train.shape[0]-1)\n",
    "                used_indexes.append(n)\n",
    "                if (len(used_indexes)==self.X_train.shape[0]):\n",
    "                    used_indexes=[]\n",
    "                xtrain=self.X_train[n,:].reshape(1,-1)\n",
    "                ytrain=np.array([self.y_train[n]])\n",
    "                \n",
    "            #print(ytrain)\n",
    "            #h(theta) = y_hat = X . theta\n",
    "            y_hat = self.h_theta(xtrain, self.theta)\n",
    "            #print(y_hat)\n",
    "            assert y_hat.shape == ytrain.shape\n",
    "            \n",
    "            iter_stop+=1\n",
    "            if (early_stopping):\n",
    "                #compute MSE (loss) and compare it to the old loss\n",
    "                #if difference is below the tolerance value, then break\n",
    "                loss_new = self.mse(y_hat, ytrain)\n",
    "                loss_diff = abs(loss_new - loss_old)\n",
    "                if (loss_diff <= tol):\n",
    "                    break\n",
    "                loss_old = loss_new\n",
    "\n",
    "            #error = y_hat - y\n",
    "            error = y_hat - ytrain\n",
    "\n",
    "            #gradient = (h_theta - y) * X [Matrix Multiplication]\n",
    "            grad = self.compute_gradient(xtrain, error)\n",
    "\n",
    "            #theta = theta - alpha * gradient\n",
    "            self.theta = self.theta - alpha * grad\n",
    "\n",
    "        time_taken = time() - start\n",
    "        print(\"Time taken to run the algorithm: {}\".format( time_taken ) )\n",
    "        print(\"Number of iterations run by the algorithm: {}\".format( iter_stop ) )\n",
    "\n",
    "    def predict(self):\n",
    "        y_hat = self.h_theta(self.X_test, self.theta)\n",
    "        #print(theta.shape[1])\n",
    "        #y_hat.shape\n",
    "        #theta.shape\n",
    "        assert y_hat.shape == self.y_test.shape\n",
    "        mean_sq_error = self.mse(y_hat, self.y_test)\n",
    "        print(\"Calculated Mean Square Error is: \", mean_sq_error)\n",
    "        return y_hat\n",
    "\n",
    "    def h_theta(self, X,theta):\n",
    "        return X @ theta\n",
    "\n",
    "    def mse(self, y_hat, y):\n",
    "        return ((y_hat - y)**2).sum() / y_hat.shape[0]\n",
    "\n",
    "    def compute_gradient(self, X, error):\n",
    "        return X.T @ error"
   ]
  },
  {
   "cell_type": "code",
   "execution_count": 5,
   "id": "5238546b",
   "metadata": {},
   "outputs": [],
   "source": [
    "#Loading Boston House Prices Data\n",
    "boston = load_boston()\n",
    "boston.feature_names\n",
    "X=boston.data\n",
    "\n",
    "#where m = number of samples (rows), n = number of features (columns)\n",
    "m=X.shape[0]\n",
    "n=X.shape[1]\n",
    "\n",
    "#Loading target variable\n",
    "y=boston.target\n",
    "assert m==y.shape[0]"
   ]
  },
  {
   "cell_type": "code",
   "execution_count": 6,
   "id": "ed9b4150",
   "metadata": {},
   "outputs": [],
   "source": [
    "#Standardizing data, assuming Gaussion(normal) distribution of current data\n",
    "scaler=StandardScaler()\n",
    "X=scaler.fit_transform(X)\n",
    "\n",
    "#Splitting data into test and train batches\n",
    "X_train, X_test, y_train, y_test = train_test_split(X,y, test_size=0.3)\n",
    "assert len(X_train) == len(y_train)\n",
    "assert len(X_test) == len(y_test)\n",
    "\n",
    "#Calling add_intercept function to add the intercept column to test & train data\n",
    "X_train, X_test = add_intercept_column(X_train, X_test)"
   ]
  },
  {
   "cell_type": "code",
   "execution_count": 10,
   "id": "44b506ce",
   "metadata": {},
   "outputs": [
    {
     "name": "stdout",
     "output_type": "stream",
     "text": [
      "Time taken to run the algorithm: 0.15270757675170898\n",
      "Number of iterations run by the algorithm: 10000\n"
     ]
    }
   ],
   "source": [
    "#Instantiating the class linearRegression and calling relevant methods\n",
    "model = linearRegression()\n",
    "model.fit_data(X_test, X_train, y_test, y_train)\n",
    "model.grad_descent(0,False)\n"
   ]
  },
  {
   "cell_type": "code",
   "execution_count": null,
   "id": "7c0b6a6d",
   "metadata": {},
   "outputs": [],
   "source": []
  },
  {
   "cell_type": "code",
   "execution_count": 11,
   "id": "8b799377",
   "metadata": {},
   "outputs": [
    {
     "name": "stdout",
     "output_type": "stream",
     "text": [
      "Calculated Mean Square Error is:  26.161805928538673\n"
     ]
    },
    {
     "data": {
      "text/plain": [
       "array([18.76596093, 10.89430074, 21.91445566, 21.98496912, 19.19231075,\n",
       "       19.83480258, 31.26251366, 24.89666478, 29.67174402, 25.96960685,\n",
       "       28.72431433, 33.508277  , 20.83101727, 23.56408451, 16.14627059,\n",
       "       30.60206329, 23.9112637 , 30.36686479, 21.03663104, 24.45191047,\n",
       "       12.93330235, 25.41873334, 18.87812656, 19.97046498,  5.54161567,\n",
       "       27.8352254 , 40.52576349, 32.32437992, 12.61835213, 27.30256405,\n",
       "       16.64041394, 26.64382691, 21.95843415, 11.46627871, 32.7434173 ,\n",
       "        7.62347408, 20.85623495, 38.20257033, 28.05013377, 22.58601329,\n",
       "       20.97475336, 15.48519505, 27.56677181, 16.26459608, 31.75991491,\n",
       "       22.49648993, 11.59331993, 42.54885842, 14.26107836, 16.9905738 ,\n",
       "       23.84108129, 25.54540279, 34.88927516, 17.92537523, 12.76351629,\n",
       "       16.92208089,  8.86251779, 22.09676996, 21.86449868,  3.67616066,\n",
       "       23.23760784, 30.57758186, 33.66326245, 24.89771382, 22.00999166,\n",
       "       24.1334458 , 25.86535485, 24.01323727, 13.24468958, 40.88769941,\n",
       "       31.01534887, 19.03114649, 24.70488953, 15.19573515,  8.77093988,\n",
       "       15.65441826, 22.86151919, 11.03662566, 27.30735391, 35.7818886 ,\n",
       "       13.47127528, 38.63140977, 15.26853104, 19.87643183, 17.59531683,\n",
       "       13.45976009, 20.18951819, 23.37277948, 29.88231142, 25.0363881 ,\n",
       "       18.21780808, 19.56884829, 24.63292438, 19.48970152, 21.01552052,\n",
       "       22.6695606 , 15.78611791, 37.32418062, 21.28673056, 23.20456956,\n",
       "       14.75216922, 22.18137508, 24.1877665 , 20.66197019, 21.28095286,\n",
       "       13.62224189, 18.09052673, 17.41270145, 21.98416071, 25.16966884,\n",
       "       12.22935955, 23.18837446, 25.17694021, 28.42053484, 15.18832694,\n",
       "       19.25920278, 22.57548814, 24.6857316 , 27.35253202, 29.27987993,\n",
       "       19.29369425, 20.39596691, 10.70248918, 30.12427484, 40.57923733,\n",
       "       22.01629531, 13.32063971, 39.60123035, 18.88822704, 20.53902216,\n",
       "       21.20626917, 21.10344922,  5.42514631, 23.89235579, 15.54555265,\n",
       "       17.30157951, 13.88624836, 16.55422363, 21.95027308, 13.24184886,\n",
       "       15.72984169, 22.73691017, 20.3297276 , 30.28165155, 17.19370538,\n",
       "        0.57987468, 12.36133471, 34.53855818, 40.03996125, 14.87053073,\n",
       "       20.24072398, 15.97471173])"
      ]
     },
     "execution_count": 11,
     "metadata": {},
     "output_type": "execute_result"
    }
   ],
   "source": [
    "model.predict()"
   ]
  },
  {
   "cell_type": "code",
   "execution_count": null,
   "id": "f701ecc3",
   "metadata": {},
   "outputs": [],
   "source": []
  },
  {
   "cell_type": "code",
   "execution_count": null,
   "id": "13dbe30a",
   "metadata": {},
   "outputs": [],
   "source": []
  },
  {
   "cell_type": "code",
   "execution_count": null,
   "id": "2f0d1e71",
   "metadata": {},
   "outputs": [],
   "source": []
  },
  {
   "cell_type": "code",
   "execution_count": null,
   "id": "66720dd5",
   "metadata": {},
   "outputs": [],
   "source": []
  },
  {
   "cell_type": "code",
   "execution_count": null,
   "id": "de6e627b",
   "metadata": {},
   "outputs": [],
   "source": []
  },
  {
   "cell_type": "code",
   "execution_count": null,
   "id": "68d2d845",
   "metadata": {},
   "outputs": [],
   "source": []
  },
  {
   "cell_type": "code",
   "execution_count": null,
   "id": "fc19bc36",
   "metadata": {},
   "outputs": [],
   "source": []
  },
  {
   "cell_type": "code",
   "execution_count": null,
   "id": "e1b7bbb4",
   "metadata": {},
   "outputs": [],
   "source": []
  },
  {
   "cell_type": "code",
   "execution_count": null,
   "id": "ba5a133f",
   "metadata": {},
   "outputs": [],
   "source": []
  },
  {
   "cell_type": "code",
   "execution_count": null,
   "id": "5e371a50",
   "metadata": {},
   "outputs": [],
   "source": []
  },
  {
   "cell_type": "code",
   "execution_count": null,
   "id": "e978f379",
   "metadata": {},
   "outputs": [],
   "source": []
  },
  {
   "cell_type": "code",
   "execution_count": null,
   "id": "48c3802c",
   "metadata": {},
   "outputs": [],
   "source": []
  },
  {
   "cell_type": "code",
   "execution_count": null,
   "id": "850bffe2",
   "metadata": {},
   "outputs": [],
   "source": []
  },
  {
   "cell_type": "code",
   "execution_count": null,
   "id": "f7cd0497",
   "metadata": {},
   "outputs": [],
   "source": []
  },
  {
   "cell_type": "code",
   "execution_count": null,
   "id": "1da5912e",
   "metadata": {},
   "outputs": [],
   "source": []
  },
  {
   "cell_type": "code",
   "execution_count": null,
   "id": "18fec9ec",
   "metadata": {},
   "outputs": [],
   "source": []
  },
  {
   "cell_type": "code",
   "execution_count": null,
   "id": "1f4b5a0a",
   "metadata": {},
   "outputs": [],
   "source": []
  },
  {
   "cell_type": "code",
   "execution_count": null,
   "id": "c82abf80",
   "metadata": {},
   "outputs": [],
   "source": []
  },
  {
   "cell_type": "code",
   "execution_count": 25,
   "id": "4edd567c",
   "metadata": {},
   "outputs": [
    {
     "ename": "NameError",
     "evalue": "name 'mse' is not defined",
     "output_type": "error",
     "traceback": [
      "\u001b[1;31m---------------------------------------------------------------------------\u001b[0m",
      "\u001b[1;31mNameError\u001b[0m                                 Traceback (most recent call last)",
      "\u001b[1;32m~\\AppData\\Local\\Temp/ipykernel_6120/1548584363.py\u001b[0m in \u001b[0;36m<module>\u001b[1;34m\u001b[0m\n\u001b[1;32m----> 1\u001b[1;33m \u001b[0mmodel\u001b[0m\u001b[1;33m.\u001b[0m\u001b[0mpredict\u001b[0m\u001b[1;33m(\u001b[0m\u001b[1;33m)\u001b[0m\u001b[1;33m\u001b[0m\u001b[1;33m\u001b[0m\u001b[0m\n\u001b[0m",
      "\u001b[1;32m~\\AppData\\Local\\Temp/ipykernel_6120/563597398.py\u001b[0m in \u001b[0;36mpredict\u001b[1;34m(self)\u001b[0m\n\u001b[0;32m     67\u001b[0m         \u001b[1;31m#theta.shape\u001b[0m\u001b[1;33m\u001b[0m\u001b[1;33m\u001b[0m\u001b[1;33m\u001b[0m\u001b[0m\n\u001b[0;32m     68\u001b[0m         \u001b[1;32massert\u001b[0m \u001b[0my_hat\u001b[0m\u001b[1;33m.\u001b[0m\u001b[0mshape\u001b[0m \u001b[1;33m==\u001b[0m \u001b[0mself\u001b[0m\u001b[1;33m.\u001b[0m\u001b[0my_test\u001b[0m\u001b[1;33m.\u001b[0m\u001b[0mshape\u001b[0m\u001b[1;33m\u001b[0m\u001b[1;33m\u001b[0m\u001b[0m\n\u001b[1;32m---> 69\u001b[1;33m         \u001b[0mmean_sq_error\u001b[0m \u001b[1;33m=\u001b[0m \u001b[0mmse\u001b[0m\u001b[1;33m(\u001b[0m\u001b[0my_hat\u001b[0m\u001b[1;33m,\u001b[0m \u001b[0mself\u001b[0m\u001b[1;33m.\u001b[0m\u001b[0my_test\u001b[0m\u001b[1;33m)\u001b[0m\u001b[1;33m\u001b[0m\u001b[1;33m\u001b[0m\u001b[0m\n\u001b[0m\u001b[0;32m     70\u001b[0m         \u001b[0mprint\u001b[0m\u001b[1;33m(\u001b[0m\u001b[1;34m\"Calculated Mean Square Error is: \"\u001b[0m\u001b[1;33m,\u001b[0m \u001b[0mmean_sq_error\u001b[0m\u001b[1;33m)\u001b[0m\u001b[1;33m\u001b[0m\u001b[1;33m\u001b[0m\u001b[0m\n\u001b[0;32m     71\u001b[0m         \u001b[1;32mreturn\u001b[0m \u001b[0my_hat\u001b[0m\u001b[1;33m\u001b[0m\u001b[1;33m\u001b[0m\u001b[0m\n",
      "\u001b[1;31mNameError\u001b[0m: name 'mse' is not defined"
     ]
    }
   ],
   "source": []
  },
  {
   "cell_type": "code",
   "execution_count": null,
   "id": "8ce932fa",
   "metadata": {},
   "outputs": [],
   "source": []
  },
  {
   "cell_type": "code",
   "execution_count": null,
   "id": "b63e78a6",
   "metadata": {},
   "outputs": [],
   "source": []
  },
  {
   "cell_type": "code",
   "execution_count": null,
   "id": "37f52a37",
   "metadata": {},
   "outputs": [],
   "source": []
  },
  {
   "cell_type": "code",
   "execution_count": null,
   "id": "94f35137",
   "metadata": {},
   "outputs": [],
   "source": []
  },
  {
   "cell_type": "code",
   "execution_count": null,
   "id": "c7b7974a",
   "metadata": {},
   "outputs": [],
   "source": []
  },
  {
   "cell_type": "code",
   "execution_count": null,
   "id": "9c6eceb1",
   "metadata": {},
   "outputs": [],
   "source": []
  },
  {
   "cell_type": "code",
   "execution_count": null,
   "id": "c503ed6a",
   "metadata": {},
   "outputs": [],
   "source": []
  },
  {
   "cell_type": "code",
   "execution_count": null,
   "id": "7c276f9a",
   "metadata": {},
   "outputs": [],
   "source": []
  },
  {
   "cell_type": "code",
   "execution_count": null,
   "id": "3cf7042c",
   "metadata": {},
   "outputs": [],
   "source": []
  }
 ],
 "metadata": {
  "kernelspec": {
   "display_name": "pythonDSAI",
   "language": "python",
   "name": "pythondsai"
  },
  "language_info": {
   "codemirror_mode": {
    "name": "ipython",
    "version": 3
   },
   "file_extension": ".py",
   "mimetype": "text/x-python",
   "name": "python",
   "nbconvert_exporter": "python",
   "pygments_lexer": "ipython3",
   "version": "3.9.6"
  }
 },
 "nbformat": 4,
 "nbformat_minor": 5
}
